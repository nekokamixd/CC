{
 "cells": [
  {
   "cell_type": "code",
   "execution_count": 1,
   "id": "38c0f42e",
   "metadata": {},
   "outputs": [],
   "source": [
    "import numpy as np"
   ]
  },
  {
   "cell_type": "code",
   "execution_count": 2,
   "id": "84988ff8",
   "metadata": {},
   "outputs": [
    {
     "name": "stdout",
     "output_type": "stream",
     "text": [
      "[[ 1]\n",
      " [ 2]\n",
      " [ 3]\n",
      " [ 4]\n",
      " [ 5]\n",
      " [ 6]\n",
      " [ 7]\n",
      " [ 8]\n",
      " [ 9]\n",
      " [10]\n",
      " [11]\n",
      " [12]\n",
      " [13]\n",
      " [14]\n",
      " [15]\n",
      " [16]\n",
      " [17]\n",
      " [18]\n",
      " [19]\n",
      " [20]\n",
      " [21]\n",
      " [22]\n",
      " [23]\n",
      " [24]\n",
      " [25]\n",
      " [26]\n",
      " [27]\n",
      " [28]\n",
      " [29]\n",
      " [30]\n",
      " [31]\n",
      " [32]\n",
      " [33]\n",
      " [34]\n",
      " [35]\n",
      " [36]\n",
      " [37]\n",
      " [38]\n",
      " [39]\n",
      " [40]\n",
      " [41]\n",
      " [42]\n",
      " [43]\n",
      " [44]\n",
      " [45]\n",
      " [46]\n",
      " [47]\n",
      " [48]\n",
      " [49]\n",
      " [50]]\n",
      "\n",
      "[ 1  2  3  4  5  6  7  8  9 10 11 12 13 14 15 16 17 18 19 20 21 22 23 24\n",
      " 25 26 27 28 29 30 31 32 33 34 35 36 37 38 39 40 41 42 43 44 45 46 47 48\n",
      " 49 50]\n",
      "\n",
      "[[ 1]\n",
      " [ 2]\n",
      " [ 3]\n",
      " [ 4]\n",
      " [ 5]\n",
      " [ 6]\n",
      " [ 7]\n",
      " [ 8]\n",
      " [ 9]\n",
      " [10]\n",
      " [11]\n",
      " [12]\n",
      " [13]\n",
      " [14]\n",
      " [15]\n",
      " [16]\n",
      " [17]\n",
      " [18]\n",
      " [19]\n",
      " [20]\n",
      " [21]\n",
      " [22]\n",
      " [23]\n",
      " [24]\n",
      " [25]\n",
      " [26]\n",
      " [27]\n",
      " [28]\n",
      " [29]\n",
      " [30]\n",
      " [31]\n",
      " [32]\n",
      " [33]\n",
      " [34]\n",
      " [35]\n",
      " [36]\n",
      " [37]\n",
      " [38]\n",
      " [39]\n",
      " [40]\n",
      " [41]\n",
      " [42]\n",
      " [43]\n",
      " [44]\n",
      " [45]\n",
      " [46]\n",
      " [47]\n",
      " [48]\n",
      " [49]]\n",
      "\n",
      "[[ 1  2  3  4  5  6  7  8  9 10 11 12 13 14 15 16 17 18 19 20 21 22 23 24\n",
      "  25 26 27 28 29 30 31 32 33 34 35 36 37 38 39 40 41 42 43 44 45 46 47 48\n",
      "  49 50]]\n",
      "\n",
      "[ 1  2  3  4  5  6  7  8  9 10 11 12 13 14 15 16 17 18 19 20 21 22 23 24\n",
      " 25 26 27 28 29 30 31 32 33 34 35 36 37 38 39 40 41 42 43 44 45 46 47 48\n",
      " 49]\n"
     ]
    }
   ],
   "source": [
    "arr = np.array([np.arange(1, 51)]).T\n",
    "print(arr)\n",
    "print(\"\")\n",
    "\n",
    "arr2 = np.arange(1,51)\n",
    "print(arr2)\n",
    "print(\"\")\n",
    "\n",
    "arr3 = np.array([np.arange(1,50)]).T\n",
    "print(arr3)\n",
    "print(\"\")\n",
    "\n",
    "arr4 = np.array([np.arange(1,51)])\n",
    "print(arr4)\n",
    "print(\"\")\n",
    "\n",
    "arr5 = np.arange(1,50)\n",
    "print(arr5)"
   ]
  },
  {
   "cell_type": "code",
   "execution_count": 3,
   "id": "ad766712",
   "metadata": {},
   "outputs": [
    {
     "name": "stdout",
     "output_type": "stream",
     "text": [
      "[[0. 0. 0. 0. 0.]\n",
      " [0. 0. 0. 0. 0.]\n",
      " [0. 0. 0. 0. 0.]]\n",
      "\n",
      "[[1. 1. 1. 1. 1.]\n",
      " [1. 1. 1. 1. 1.]\n",
      " [1. 1. 1. 1. 1.]]\n",
      "\n",
      "[[3 4 5]]\n",
      "\n",
      "[[0. 0. 0.]\n",
      " [0. 0. 0.]\n",
      " [0. 0. 0.]\n",
      " [0. 0. 0.]\n",
      " [0. 0. 0.]]\n",
      "\n",
      "[[0. 0. 0.]\n",
      " [0. 0. 0.]\n",
      " [0. 0. 0.]\n",
      " [0. 0. 0.]\n",
      " [0. 0. 0.]]\n"
     ]
    }
   ],
   "source": [
    "mat = np.zeros((3, 5))\n",
    "print(mat)\n",
    "print(\"\")\n",
    "\n",
    "mat2 = np.array([np.ones(5),np.ones(5),np.ones(5)])\n",
    "print(mat2)\n",
    "print(\"\")\n",
    "mat3 = np.array([np.arange(3,6)])\n",
    "print(mat3)\n",
    "print(\"\")\n",
    "mat4 = np.zeros((5,3))\n",
    "print(mat4)\n",
    "print(\"\")\n",
    "mat5 = np.array([np.zeros(3),np.zeros(3),np.zeros(3),np.zeros(3),np.zeros(3)])\n",
    "print(mat5)"
   ]
  },
  {
   "cell_type": "code",
   "execution_count": 4,
   "id": "098d6d5f",
   "metadata": {},
   "outputs": [
    {
     "name": "stdout",
     "output_type": "stream",
     "text": [
      "Matriz:\n",
      "[[ 3 12  5  7]\n",
      " [ 2  8  3  9]\n",
      " [99  1  0  4]]\n",
      "\n",
      "[104  21   8  20]\n",
      "\n",
      "[104, 21, 8, 20]\n",
      "\n",
      "[ 27  22 104]\n",
      "\n",
      "[ 27  22 104]\n",
      "\n",
      "[104  21   8  20]\n"
     ]
    }
   ],
   "source": [
    "mat = np . array ([[3 ,12 ,5 ,7] ,[2 ,8 ,3 ,9] ,[99 ,1 ,0 ,4]])\n",
    "print(\"Matriz:\")\n",
    "print(mat)\n",
    "print(\"\")\n",
    "\n",
    "suma = np.sum(mat,axis=0)\n",
    "print(suma)\n",
    "print(\"\")\n",
    "\n",
    "suma2 = [np.sum(mat[:,0]),np.sum(mat[:,1]),np.sum(mat[:,2]),np.sum(mat[:,3])]\n",
    "print(suma2)\n",
    "print(\"\")\n",
    "\n",
    "suma3 = np.array([np.sum(mat[0,:]),np.sum(mat[1,:]),np.sum(mat[2,:])])\n",
    "print(suma3)\n",
    "print(\"\")\n",
    "\n",
    "suma4 = np.sum(mat,axis=1)\n",
    "print(suma4)\n",
    "print(\"\")\n",
    "\n",
    "suma5 = np.array([np.sum(mat[:,0]),np.sum(mat[:,1]),np.sum(mat[:,2]),np.sum(mat[:,3])])\n",
    "print(suma5)"
   ]
  },
  {
   "cell_type": "code",
   "execution_count": 5,
   "id": "a837acd4",
   "metadata": {},
   "outputs": [
    {
     "name": "stdout",
     "output_type": "stream",
     "text": [
      "Matriz:\n",
      "[[ 5 15  2 10  8]\n",
      " [ 3 25  4 11  1]\n",
      " [ 6 19 18  9 12]]\n",
      "\n",
      "[[ 2 10]\n",
      " [ 4 11]\n",
      " [18  9]]\n",
      "\n",
      "12\n",
      "\n",
      "[[ 6 19 18  9 12]]\n",
      "\n",
      "[[ 5 15  2 10]\n",
      " [ 3 25  4 11]]\n",
      "\n"
     ]
    }
   ],
   "source": [
    "mat = np.array([[ 5, 15, 2, 10, 8], [ 3, 25, 4, 11, 1], [ 6, 19, 18, 9, 12]])\n",
    "print(\"Matriz:\")\n",
    "print(mat)\n",
    "print(\"\")\n",
    "\n",
    "res = mat[:,2:4]\n",
    "print(res)\n",
    "print(\"\")\n",
    "\n",
    "res2 = mat[2,4]\n",
    "print(res2)\n",
    "print(\"\")\n",
    "\n",
    "\"\"\"\n",
    "# error\n",
    "res3 = mat[:,2,:,4]\n",
    "print(res3)\n",
    "print(\"\")\n",
    "\"\"\"\n",
    "\n",
    "res4 = mat[2:4,:]\n",
    "print(res4)\n",
    "print(\"\")\n",
    "\n",
    "res5 = mat[:2,:4]\n",
    "print(res5)\n",
    "print(\"\")"
   ]
  },
  {
   "cell_type": "code",
   "execution_count": 6,
   "id": "a1c952a9",
   "metadata": {},
   "outputs": [
    {
     "data": {
      "image/png": "[encoded data removed]",
      "text/plain": [
       "<Figure size 640x480 with 1 Axes>"
      ]
     },
     "metadata": {},
     "output_type": "display_data"
    }
   ],
   "source": [
    "import matplotlib.pyplot as plt\n",
    "\n",
    "Theta = np.linspace(0, 4*np.pi, 200)\n",
    "X = 6*np.cos(.5*Theta)*np.cos(Theta)\n",
    "Y = 6*np.cos(.5*Theta)*np.sin(Theta) # Respuesta\n",
    "fig, ax = plt.subplots()\n",
    "ax.plot(X, Y)\n",
    "plt.grid()\n",
    "plt.show()\n",
    "\n",
    "# Y = np.array(6*np.cos(.5*theta)*np.sin(theta))\n",
    "# Y = 6*np.cos(.5*Theta)*np.sin(Theta)\n",
    "# Y = 6*np.cos(.5*Theta)*np.sin(theta)\n",
    "# y = 6*np.cos(.5*Theta)*np.sin(Theta)\n",
    "# Y = [6*np.cos(.5*k)*np.sin(k) for k in theta]"
   ]
  },
  {
   "cell_type": "code",
   "execution_count": 7,
   "id": "e732bb80",
   "metadata": {},
   "outputs": [
    {
     "name": "stdout",
     "output_type": "stream",
     "text": [
      "(4.712388980384689, 5.231802747012947e-14)\n"
     ]
    }
   ],
   "source": [
    "import scipy\n",
    "integral = scipy.integrate.quad(lambda x: 3*(1-np.cos(x)**2), 0, np.pi)\n",
    "print(integral)"
   ]
  },
  {
   "cell_type": "code",
   "execution_count": null,
   "id": "9159d63b",
   "metadata": {},
   "outputs": [],
   "source": []
  }
 ],
 "metadata": {
  "kernelspec": {
   "display_name": "Python 3 (ipykernel)",
   "language": "python",
   "name": "python3"
  },
  "language_info": {
   "codemirror_mode": {
    "name": "ipython",
    "version": 3
   },
   "file_extension": ".py",
   "mimetype": "text/x-python",
   "name": "python",
   "nbconvert_exporter": "python",
   "pygments_lexer": "ipython3",
   "version": "3.9.13"
  }
 },
 "nbformat": 4,
 "nbformat_minor": 5
}
