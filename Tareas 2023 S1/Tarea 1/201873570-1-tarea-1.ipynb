{
 "cells": [
  {
   "cell_type": "markdown",
   "metadata": {
    "cell_id": "4c008c05610d41daa766b90e1cc12d89",
    "deepnote_cell_type": "markdown",
    "tags": []
   },
   "source": [
    "<center>\n",
    "    <img src=\"http://sct.inf.utfsm.cl/wp-content/uploads/2020/04/logo_di.png\" style=\"width:60%\">\n",
    "    <h1> INF285 - Computación Científica </h1>\n",
    "    <h2> Tarea 1 - Código Base</h2>\n",
    "    <h2> [S]cientific [C]omputing [T]eam </a> </h2>\n",
    "    <h2> Version: 1.00</h2>\n",
    "</center>"
   ]
  },
  {
   "cell_type": "markdown",
   "metadata": {
    "cell_id": "455bc798a6114bce8756aed356c3e463",
    "deepnote_cell_type": "markdown",
    "tags": []
   },
   "source": [
    "# Contexto"
   ]
  },
  {
   "cell_type": "markdown",
   "metadata": {
    "cell_id": "184f633785ba4d008fc2c85a73db8ea1",
    "deepnote_cell_type": "markdown",
    "tags": []
   },
   "source": [
    "Los números irracionales son una base importante de las matemáticas, pues permiten hacer cosas como calcular el largo de la diagonal de un cuadrado de lado 1, lo que da origen a las raíces cuadradas con las cuales estamos familiarizados por el teorema de Pitágoras.\n",
    "Para poder hacer cálculos que involucren los números irracionales antiguamente se ocupaban tablas con aproximaciones de los números. Una forma de obtener estas tablas es mediante iteraciones de punto fijo, por ejemplo, para el calculo de $\\sqrt{2}$ en el libro guía (ejemplo 1.6) se presenta la siguiente IPF:\n",
    "\n",
    "$$x_{i+1} = \\frac{x_i+\\frac{2}{x_i}}{2}$$\n",
    "\n",
    "Esta IPF data del siglo I d.C. y fue usada para calcular el valor de $\\sqrt{720}$.\n",
    "\n",
    "En nuestro caso, nos interesa lograr algo similar pero para el logaritmo natural, el cual cumple varias propiedades interesantes, además de guardar una fuerte relación con la constante $e$, una de las constantes más importantes del mundo de las matemáticas.\n"
   ]
  },
  {
   "cell_type": "markdown",
   "metadata": {
    "cell_id": "5467192a8f7c4aa08669700526ab0c57",
    "deepnote_cell_type": "markdown",
    "tags": []
   },
   "source": [
    "# No debe utilizar librerías adicionales."
   ]
  },
  {
   "cell_type": "code",
   "execution_count": 1,
   "metadata": {
    "cell_id": "cc5980298dfe4a6ea2775e925209d2c8",
    "deepnote_cell_type": "code",
    "deepnote_to_be_reexecuted": false,
    "execution_millis": 1,
    "execution_start": 1680322802475,
    "source_hash": "c2602aa8",
    "tags": []
   },
   "outputs": [],
   "source": [
    "import numpy as np"
   ]
  },
  {
   "cell_type": "markdown",
   "metadata": {
    "cell_id": "011d65e7699f4cea843d6dd915848217",
    "deepnote_cell_type": "markdown",
    "tags": []
   },
   "source": [
    "*Nota: Para el desarrollo **no esta permitido** el uso de la funcion* `np.log()` ni `np.vectorize()`"
   ]
  },
  {
   "cell_type": "markdown",
   "metadata": {
    "cell_id": "d1bf2c16393a45658f1ef519d225cd27",
    "deepnote_cell_type": "markdown"
   },
   "source": [
    "## Funciones Entregadas\n",
    "*No debe modificarlas*"
   ]
  },
  {
   "cell_type": "code",
   "execution_count": 2,
   "metadata": {
    "cell_id": "845a8e73e0b34271ab0dd2fe267fea47",
    "deepnote_cell_type": "code",
    "deepnote_to_be_reexecuted": false,
    "execution_millis": 4,
    "execution_start": 1680322802482,
    "source_hash": "1133bb86"
   },
   "outputs": [],
   "source": [
    "def IPF(x0, g, tol):\n",
    "    \"\"\"\n",
    "    Parameters\n",
    "    ----------\n",
    "    x0        : float\n",
    "                Initial value\n",
    "    g         : function\n",
    "                Function to use in the IPF\n",
    "    tol       : float\n",
    "                Max error\n",
    "\n",
    "    Returns\n",
    "    -------\n",
    "    x      : float\n",
    "             value after convergence\n",
    "    \"\"\"\n",
    "    x = x0\n",
    "\n",
    "    while abs(x - g(x)) > tol:\n",
    "        x = g(x)\n",
    "\n",
    "    return x\n",
    "\n",
    "def Bisection(a, b, f, tol):\n",
    "    \"\"\"\n",
    "    Parameters\n",
    "    ----------\n",
    "    a         : float\n",
    "                Interval start\n",
    "    b         : float\n",
    "                Interval end\n",
    "    f         : Function\n",
    "                Funtion to evaluate\n",
    "    tol       : float\n",
    "                Max error\n",
    "\n",
    "    Returns\n",
    "    -------\n",
    "    val   : float\n",
    "            Root for the function f with tolerance tol\n",
    "    \"\"\"\n",
    "    while((b-a)/2  > tol):\n",
    "        c = (a+b)/2\n",
    "\n",
    "        if f(c) == 0:\n",
    "            break\n",
    "        if f(a)*f(c) < 0:\n",
    "            b = c\n",
    "        else:\n",
    "            a = c\n",
    "\n",
    "    val = c\n",
    "    return val"
   ]
  },
  {
   "cell_type": "markdown",
   "metadata": {
    "cell_id": "5117fa42d729475cbe6b0acd51e04b41",
    "deepnote_cell_type": "markdown",
    "tags": []
   },
   "source": [
    "# Funciones a implementar"
   ]
  },
  {
   "cell_type": "markdown",
   "metadata": {
    "cell_id": "57ece018c0f1440589ae6f4e4933f046",
    "deepnote_cell_type": "markdown"
   },
   "source": [
    "**Importante** de aquí en adelante para referirse al logaritmo natural (logaritmo en base $e$) se ocupara $\\log$"
   ]
  },
  {
   "cell_type": "markdown",
   "metadata": {
    "cell_id": "01c8146c24874cb6ad6f8f624584caf5",
    "deepnote_cell_type": "markdown",
    "tags": []
   },
   "source": [
    "**[10 puntos] Pregunta 1:** Sabiendo lo anterior, se pide calcular el valor de $\\log(2)$ mediante una iteración de punto fijo."
   ]
  },
  {
   "cell_type": "markdown",
   "metadata": {
    "cell_id": "28e30f9daab347c69521e002069b8e96",
    "deepnote_cell_type": "markdown"
   },
   "source": [
    "**[8 Puntos] Pregunta 1.1:** Coloque su desarrollo para obtener la función $g(x)$ de la IPF a iterar haciendo uso de latex en markdown."
   ]
  },
  {
   "cell_type": "markdown",
   "metadata": {},
   "source": [
    "Para buscar la función $g(x)$ se busca la forma en que se obtiene $g(x)=x$:\n",
    "\n",
    "$ln(2)=x$ <br>\n",
    "se utiliza la definición de logaritmo natural <br>\n",
    "$e^x=2$ <br>\n",
    "se multiplica por $x$ a ambos lados de la ecuación <br>\n",
    "$x*e^x=2*x$ <br>\n",
    "y por último se divide por $e^x$ para despejar la $x$ a la izquierda <br>\n",
    "$x={2*x \\over e^x}$ <br>\n",
    "$g(x)={2*x \\over e^x}=x$"
   ]
  },
  {
   "cell_type": "markdown",
   "metadata": {
    "cell_id": "b41c1b212f2f48689cfd4e5ab7764f65",
    "deepnote_cell_type": "markdown"
   },
   "source": [
    "**[2 puntos] Pregunta 1.2:** Impleméntela en código y obtenga el valor con al menos 5 decimales de precisión."
   ]
  },
  {
   "cell_type": "code",
   "execution_count": 3,
   "metadata": {
    "cell_id": "d6bedccfbfb14f198e5d2e4c0a8d42fd",
    "deepnote_cell_type": "code",
    "deepnote_to_be_reexecuted": false,
    "execution_millis": 586,
    "execution_start": 1680322802528,
    "output_cleared": false,
    "source_hash": "cfd2cf01",
    "tags": []
   },
   "outputs": [
    {
     "data": {
      "text/plain": [
       "0.6931480838401924"
      ]
     },
     "execution_count": 3,
     "metadata": {},
     "output_type": "execute_result"
    }
   ],
   "source": [
    "# Iteracion de punto fijo\n",
    "def FPI_log2(x):\n",
    "    \"\"\"\n",
    "    Parameters\n",
    "    ----------\n",
    "    x         : float\n",
    "                Initial value\n",
    "\n",
    "    Returns\n",
    "    -------\n",
    "    val   : float\n",
    "             Numerical aproximation of ln(2)\n",
    "    \"\"\"\n",
    "    #Desarrollo\n",
    "    g = lambda x: 2*x/(np.exp(x))\n",
    "    x0 = 1\n",
    "    tol = 1e-6\n",
    "    \n",
    "    val = IPF(x0, g, tol)\n",
    "    \n",
    "    return val\n",
    "\n",
    "FPI_log2(2)"
   ]
  },
  {
   "cell_type": "markdown",
   "metadata": {
    "cell_id": "b483fb22bac94880a4f0e5ff55817008",
    "deepnote_cell_type": "markdown",
    "tags": []
   },
   "source": [
    "**[10 puntos] Pregunta 2:** Cree una función que le permita mediante el algoritmo de bisección calcular el valor aproximado de $\\log(2)$"
   ]
  },
  {
   "cell_type": "markdown",
   "metadata": {
    "cell_id": "f2f01973c57745399290b25ac79c66c2",
    "deepnote_cell_type": "markdown"
   },
   "source": [
    "**[8 puntos] Pregunta 2.1:** Coloque su desarrollo para obtener la función $f(x)$ del método de la bisección a iterar haciendo uso de latex en markdown."
   ]
  },
  {
   "cell_type": "markdown",
   "metadata": {},
   "source": [
    "Ahora se busca una función tal que $f(x)=0$: <br>\n",
    "\n",
    "$ln(2)=x$ <br>\n",
    "se utiliza la definición de logaritmo natural <br>\n",
    "$e^x=2$ <br>\n",
    "y se resta 2 a ambos lados para igualar la función a 0 <br>\n",
    "$e^x-2=0$ <br>\n",
    "$f(x)=e^x-2=0$"
   ]
  },
  {
   "cell_type": "markdown",
   "metadata": {
    "cell_id": "3260eeea16554d80badbf53538f1ef19",
    "deepnote_cell_type": "markdown"
   },
   "source": [
    "**[2 puntos] Pregunta 2.2:** Impleméntela en código y retorne el valor con al menos 5 decimales de precisión"
   ]
  },
  {
   "cell_type": "code",
   "execution_count": 4,
   "metadata": {
    "cell_id": "ee65bf72f56b4d2faeb4d818141bebae",
    "deepnote_cell_type": "code",
    "deepnote_to_be_reexecuted": true,
    "execution_millis": 1111313,
    "execution_start": 1680321691812,
    "output_cleared": false,
    "source_hash": "b19178e2",
    "tags": []
   },
   "outputs": [
    {
     "data": {
      "text/plain": [
       "0.6931476593017578"
      ]
     },
     "execution_count": 4,
     "metadata": {},
     "output_type": "execute_result"
    }
   ],
   "source": [
    "# Biseccion\n",
    "def Bisection_log2(a,b):\n",
    "    \"\"\"\n",
    "    Parameters\n",
    "    ----------\n",
    "    a         : float\n",
    "                Interval start\n",
    "    b         : float\n",
    "                Interval end\n",
    "\n",
    "    Returns\n",
    "    -------\n",
    "    val   : float\n",
    "             Numerical aproximation of ln(2)\n",
    "    \"\"\"\n",
    "    #Desarrollo\n",
    "    f = lambda x: np.exp(x)-2\n",
    "    tol = 1e-6\n",
    "    \n",
    "    val = Bisection(a, b, f, tol)\n",
    "    \n",
    "    return val\n",
    "\n",
    "# Debe entregale los parametros que permitan calcular el valor.\n",
    "Bisection_log2(0,1)"
   ]
  },
  {
   "cell_type": "markdown",
   "metadata": {
    "cell_id": "23292948c326433ca238e00ce346df62",
    "deepnote_cell_type": "markdown",
    "tags": []
   },
   "source": [
    "**[20 puntos] Pregunta 3:** Calcular el valor de $\\log(a)$ mediante el metodo de la bisección, donde $a$ es conocido y también se sabe dentro de que intervalo se encuentra el resultado.\n",
    "\n"
   ]
  },
  {
   "cell_type": "markdown",
   "metadata": {
    "cell_id": "b73620dd7b504439af27dcc03d2be119",
    "deepnote_cell_type": "markdown"
   },
   "source": [
    "**[10 puntos] Pregunta 3.1:** Coloque su desarrollo para obtener la función $f(x)$ del método de la bisección a iterar haciendo uso de latex en markdown."
   ]
  },
  {
   "cell_type": "markdown",
   "metadata": {},
   "source": [
    "Al igual que en la pregunta anterior se busca un $f(x)$ tal que $f(x)=0$: <br>\n",
    "\n",
    "$ln(a)=x$ <br>\n",
    "se utiliza la definición de logaritmo natural <br>\n",
    "$e^x=a$ <br>\n",
    "se resta $a$ a los dos lados de la ecuación <br>\n",
    "$e^x-a=0$ <br>\n",
    "y se obtiene la función $f(x)$ <br>\n",
    "$f(x)=e^x-a=0$"
   ]
  },
  {
   "cell_type": "markdown",
   "metadata": {
    "cell_id": "3adc08cbf8314e3385a41d74d44edaba",
    "deepnote_cell_type": "markdown"
   },
   "source": [
    "**[10 puntos] Pregunta 3.2:** Impleméntela en código y entrege el resultado con al menos 5 decimales de precisión."
   ]
  },
  {
   "cell_type": "code",
   "execution_count": 5,
   "metadata": {
    "cell_id": "965749f7b2214eac91e315c34dffcde6",
    "deepnote_cell_type": "code",
    "deepnote_to_be_reexecuted": true,
    "execution_millis": 1111264,
    "execution_start": 1680321691865,
    "output_cleared": false,
    "source_hash": "b9f3e5a1",
    "tags": []
   },
   "outputs": [
    {
     "data": {
      "text/plain": [
       "2.7080516815185547"
      ]
     },
     "execution_count": 5,
     "metadata": {},
     "output_type": "execute_result"
    }
   ],
   "source": [
    "f = 1\n",
    "def log_aprox(a,b,f,num):\n",
    "    \"\"\"\n",
    "    Parameters\n",
    "    ----------\n",
    "    a         : float\n",
    "                Interval start\n",
    "    b         : float\n",
    "                Interval end\n",
    "    f         : Function\n",
    "                Funtion to evaluate\n",
    "    num       : float\n",
    "                Value to aproximate, log(num)\n",
    "    Returns\n",
    "    -------\n",
    "    val   : float\n",
    "             Numerical aproximation of log(num)\n",
    "    \"\"\"\n",
    "    #Desarrollo\n",
    "    f = lambda x: np.exp(x)-num\n",
    "    tol = 1e-6\n",
    "    \n",
    "    val = Bisection(a, b, f, tol)\n",
    "    \n",
    "    return val\n",
    "\n",
    "# Valor de prueba\n",
    "log_aprox(2,3,f,15)"
   ]
  },
  {
   "cell_type": "markdown",
   "metadata": {
    "cell_id": "64e4289f6eb94664938878e34e31adde",
    "deepnote_cell_type": "markdown"
   },
   "source": [
    "**[30 puntos] Pregunta 4:** Cree un algoritmo que permita dado un vector $x$ de valores entre $[2,6]$ obtener el valor de $\\log(x)$, el cual entrega el resultado de aplicar la funcion $\\log()$ a cada uno de los valores del vector $x$\n",
    "\n",
    "*Hint: FPI could save you time or no?*"
   ]
  },
  {
   "cell_type": "code",
   "execution_count": 6,
   "metadata": {
    "cell_id": "a3a26c5bfad6455292f7b310c98b0df5",
    "deepnote_cell_type": "code",
    "deepnote_to_be_reexecuted": true,
    "execution_millis": 1111267,
    "execution_start": 1680321691865,
    "output_cleared": false,
    "source_hash": "949eed21"
   },
   "outputs": [
    {
     "data": {
      "text/plain": [
       "array([1.09861164, 1.38629404, 1.60943733])"
      ]
     },
     "execution_count": 6,
     "metadata": {},
     "output_type": "execute_result"
    }
   ],
   "source": [
    "def log_vec(x, tol):\n",
    "    \"\"\"\n",
    "    Parameters\n",
    "    ----------\n",
    "    x              : ndarray\n",
    "                    Values to aproximate\n",
    "    tol            : float\n",
    "                    Max error\n",
    "    Returns\n",
    "    -------\n",
    "    val   : float\n",
    "             Numerical aproximation of ln(num)\n",
    "    \"\"\"\n",
    "    #Desarrollo\n",
    "    aux = np.ones(3)\n",
    "    aux = aux * x #Arreglo x pero con números flotantes\n",
    "    \n",
    "    i = 0\n",
    "    while(i < aux.size):\n",
    "        a = aux[i]\n",
    "        g = lambda y: a*y/(np.exp(y))\n",
    "        aux[i] = IPF(a, g, tol)\n",
    "        i += 1\n",
    "    x = aux\n",
    "    return x\n",
    "\n",
    "# Valor de prueba\n",
    "x0 = np.array([3,4,5])\n",
    "log_vec(x0, 1e-6)"
   ]
  },
  {
   "cell_type": "markdown",
   "metadata": {
    "cell_id": "fce46d633d7b43c491f06755a3abda91",
    "deepnote_cell_type": "markdown"
   },
   "source": [
    "**[20 puntos] Pregunta 5:** Haciendo uso de las funciones anteriormente definidas, resuelva la ecuación $3^x\\times4^{x+3}-5=0$ mediante una iteración de punto fijo.\n",
    "\n",
    "*Hint: you may find useful to calculate log(3), log(4) and log(5).*"
   ]
  },
  {
   "cell_type": "markdown",
   "metadata": {
    "cell_id": "f27ed0525afb42a0bcc8867a91e7f99c",
    "deepnote_cell_type": "markdown"
   },
   "source": [
    "**[10 puntos] Pregunta 5.1:** Coloque su desarrollo para obtener la función $g(x)$ de la IPF a iterar haciendo uso de latex en markdown."
   ]
  },
  {
   "cell_type": "markdown",
   "metadata": {},
   "source": [
    "Se busca una función tal que $g(x)=x$ <br>\n",
    "\n",
    "$3^x*4^{x+3}-5=0$ <br>\n",
    "$3^x*4^{x+3}=5$ <br>\n",
    "se aplica logaritmo natural a ambos lados de la ecuación <br>\n",
    "$ln(3^x*4^{x+3})=ln(5)$ <br>\n",
    "se utilizan las propiedades de logaritmos <br>\n",
    "$ln(3^x)+ln(4^{x+3})=ln(5)$ <br>\n",
    "$x*ln(3)+(x+3)*ln(4)=ln(5)$ <br>\n",
    "$(x+3)*ln(4)=ln(5)-x*ln(3)$ <br>\n",
    "se desarrolla la multiplicación <br>\n",
    "$x*ln(4)+3*ln(4)=ln(5)-x*ln(3)$ <br>\n",
    "$x*ln(4)=ln(5)-x*ln(3)-3*ln(4)$ <br>\n",
    "finalmente se divide por $ln(4)$ a ambos lados de la ecuación, despejando x <br>\n",
    "$x={ln(5)-x*ln(3)-3*ln(4) \\over ln(4)}$ <br>\n",
    "$g(x)={ln(5)-x*ln(3)-3*ln(4) \\over ln(4)}=x$"
   ]
  },
  {
   "cell_type": "markdown",
   "metadata": {
    "cell_id": "6b900d9be1d442588af884e55fd90be0",
    "deepnote_cell_type": "markdown"
   },
   "source": [
    "**[10 puntos] Pregunta 5.2:** Impleméntela en código"
   ]
  },
  {
   "cell_type": "code",
   "execution_count": 7,
   "metadata": {
    "cell_id": "68d48516cbe143368c882971a9ed8198",
    "deepnote_cell_type": "code",
    "deepnote_to_be_reexecuted": true,
    "execution_millis": 1111225,
    "execution_start": 1680321691909,
    "output_cleared": false,
    "source_hash": "9668d461"
   },
   "outputs": [
    {
     "data": {
      "text/plain": [
       "-1.0259729037092593"
      ]
     },
     "execution_count": 7,
     "metadata": {},
     "output_type": "execute_result"
    }
   ],
   "source": [
    "def solve(x0, tol=1e-6):\n",
    "    \"\"\"\n",
    "    Parameters\n",
    "    ----------\n",
    "    x0        : float\n",
    "                Initial Value\n",
    "    tol       : float\n",
    "                Max error\n",
    "    Returns\n",
    "    -------\n",
    "    val    : float\n",
    "            Root that solves the equation\n",
    "    \"\"\"\n",
    "    #Desarrollo\n",
    "    ln3 = logs[0]\n",
    "    ln4 = logs[1]\n",
    "    ln5 = logs[2]\n",
    "    g = lambda x: (ln5-x*ln3-3*ln4)/(ln4)\n",
    "    x0 = 0\n",
    "    tol = 1e-6\n",
    "    \n",
    "    val = IPF(x0, g, tol)\n",
    "\n",
    "    return val\n",
    "\n",
    "logs = log_vec(x0, 1e-6)\n",
    "solve(-1)"
   ]
  },
  {
   "cell_type": "markdown",
   "metadata": {
    "created_in_deepnote_cell": true,
    "deepnote_cell_type": "markdown"
   },
   "source": [
    "<a style='text-decoration:none;line-height:16px;display:flex;color:#5B5B62;padding:10px;justify-content:end;' href='https://deepnote.com?utm_source=created-in-deepnote-cell&projectId=5fe28d40-a852-452c-906f-a24f6686b989' target=\"_blank\">\n",
    "<img alt='Created in deepnote.com' style='display:inline;max-height:16px;margin:0px;margin-right:7.5px;' src='data:image/svg+xml;base64,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' > </img>\n",
    "Created in <span style='font-weight:600;margin-left:4px;'>Deepnote</span></a>"
   ]
  }
 ],
 "metadata": {
  "deepnote": {},
  "deepnote_execution_queue": [],
  "deepnote_notebook_id": "930e6f27efae4117b02f54ca8fc19a54",
  "deepnote_persisted_session": {
   "createdAt": "2023-04-01T03:15:05.415Z"
  },
  "kernelspec": {
   "display_name": "Python 3 (ipykernel)",
   "language": "python",
   "name": "python3"
  },
  "language_info": {
   "codemirror_mode": {
    "name": "ipython",
    "version": 3
   },
   "file_extension": ".py",
   "mimetype": "text/x-python",
   "name": "python",
   "nbconvert_exporter": "python",
   "pygments_lexer": "ipython3",
   "version": "3.9.13"
  }
 },
 "nbformat": 4,
 "nbformat_minor": 1
}
