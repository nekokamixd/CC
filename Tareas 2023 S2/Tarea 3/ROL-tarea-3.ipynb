{
  "cells": [
    {
      "cell_type": "markdown",
      "metadata": {
        "formattedRanges": [],
        "cell_id": "ae117b6a88b74ba484da6bfd90dac4c4",
        "deepnote_cell_type": "text-cell-p",
        "id": "FMmnuekg2wuY"
      },
      "source": []
    },
    {
      "cell_type": "markdown",
      "metadata": {
        "cell_id": "bdd132155a174f91bbfe420184bb56d9",
        "deepnote_cell_type": "markdown",
        "id": "rynIdmNp2wud"
      },
      "source": [
        "<center>\n",
        "    <h1> INF285 - Computación Científica </h1>\n",
        "    <h2> Tarea 3</h2>\n",
        "    <h2> [S]cientific [C]omputing [T]eam </a> </h2>\n",
        "    <h2> Version: 1.00</h2>\n",
        "</center>"
      ]
    },
    {
      "cell_type": "markdown",
      "metadata": {
        "cell_id": "41f237d5547143c9a3a3f3979cfeca00",
        "deepnote_cell_type": "markdown",
        "id": "iXqq0rpi2wuf"
      },
      "source": [
        "# Contexto"
      ]
    },
    {
      "cell_type": "markdown",
      "metadata": {
        "cell_id": "c0ed5f10bb364dcf98290a6a6f111379",
        "deepnote_cell_type": "markdown",
        "id": "AEdLeE4S2wug"
      },
      "source": [
        "Para los amantes del vino, la **calidad** es un factor importante al momento de decidir. Las propiedades de un vino, principalmente químicas, influyen en gran medida en el proceso de fermentación. Existen varias carcaterísticas que pueden ayudar a analizar y estudiar la calidad de un vino, ya sea tinto o blanco. A continuación se describen algunas:\n",
        "\n",
        "* **acidez fija**: tiene que ver con la acidez no volátil del vino.\n",
        "* **acidez volátil**: es la cantidad de ácido acético en el vino.\n",
        "* **acidez cítrica**: el ácido cítrico puede agregar sabor al vino.\n",
        "* **azúcar residual**: es la cantidad de azúcar que queda después del proceso de fermentación.\n",
        "* **cloruro**: es la cantidad de sal en el vino.\n",
        "* **dióxido de azufre libre**: cantidad de dióxido de azufre en forma libre.\n",
        "* **dióxido de azufre total**: cantidad de dióxido de azufre de formas libres y ligadas.\n",
        "* **densidad**: indica la densidad del vino.\n",
        "* **ph**: indica el ph del vino.\n",
        "* **sulfatos**: indica la cantidad de sulfatos en el vino.\n",
        "* **alcohol**: indica la cantidad porcentual de alcohol en el vino.\n",
        "* **calidad**: indica la calidad del vino.\n",
        "\n",
        "Usted cuenta con un archivo denominado *vinos.csv* el cual cuenta en cada columna con los datos de 3000 vinos para cada característica mencionada anteriormente. El problema es que algunas calidades no se han podido obtener, dado que hay **datos faltantes**. Por lo tanto, se necesita aproximar esos datos faltantes para así poder obtener alguna aproximación de la calidad de esos vinos.\n",
        "\n",
        "**NOTA: cada dato faltante tiene valor -1.0, así como también la calidad del vino que cuenta con un dato faltante.**"
      ]
    },
    {
      "cell_type": "markdown",
      "metadata": {
        "cell_id": "40e8ac834cef4344a0eb8e5ea2802c95",
        "deepnote_cell_type": "markdown",
        "id": "0DFfig_C2wug"
      },
      "source": [
        "# Librerías (no utilizar liberías adicionales)"
      ]
    },
    {
      "cell_type": "code",
      "metadata": {
        "source_hash": null,
        "execution_start": 1698132251776,
        "execution_millis": 951,
        "deepnote_to_be_reexecuted": false,
        "cell_id": "f3147c5147e74e5dacfe37e8d40453df",
        "deepnote_cell_type": "code",
        "id": "BRLAxo4e2wuh"
      },
      "source": [
        "import numpy as np\n",
        "import pandas as pd"
      ],
      "execution_count": 2,
      "outputs": []
    },
    {
      "cell_type": "markdown",
      "metadata": {
        "cell_id": "d3f6a60c5aca4562a689540bd6e95f20",
        "deepnote_cell_type": "markdown",
        "id": "ECeuWBus2wui"
      },
      "source": [
        "# Información y funciones entregadas"
      ]
    },
    {
      "cell_type": "code",
      "metadata": {
        "source_hash": null,
        "execution_start": 1698132281350,
        "execution_millis": 19,
        "deepnote_to_be_reexecuted": false,
        "cell_id": "057556f8c4d04ebcb09cfc51bebb6ffd",
        "deepnote_cell_type": "code",
        "id": "02S4cESr2wui"
      },
      "source": [
        "def obtainData(filename):\n",
        "    \"\"\"\n",
        "    input(s)\n",
        "    --------\n",
        "    filename :(str)     filename with format csv.\n",
        "\n",
        "    output(s)\n",
        "    ---------\n",
        "    labels:   (list)    a list with labels.\n",
        "    mat:      (ndarray) matrix with data of size n x m.\n",
        "    \"\"\"\n",
        "    df = pd.read_csv(filename)\n",
        "    labels = list(df.columns)\n",
        "    df = df.drop(columns=[\"pos\"])\n",
        "    mat = df.to_numpy()\n",
        "    return labels,mat"
      ],
      "execution_count": 4,
      "outputs": []
    },
    {
      "cell_type": "code",
      "source": [
        "labels,mat = obtainData(\"vinos.csv\")"
      ],
      "metadata": {
        "id": "xnTw3qC6dnmU"
      },
      "execution_count": 3,
      "outputs": []
    },
    {
      "cell_type": "markdown",
      "metadata": {
        "cell_id": "d87de0df36ff41f194b47df25fff9eff",
        "deepnote_cell_type": "markdown",
        "id": "IX1wOHYK2wuj"
      },
      "source": [
        "# Consultas\n",
        "\n",
        "* Enviar a: **tareas.inf285@gmail.com**\n",
        "* Se recibirán consultas en dos bloques. El primer bloque será desde las 08:00 hrs hasta las 10:00 hrs, donde todas las preguntas recibidas dentro de este bloque se responderán con seguridad a partir de las 10:01 hrs. El segundo bloque de consultas será desde las 10:01 hrs hasta las 14:00 hrs, donde las preguntas recibidas dentro de este bloque horario se responderán con seguridad a partir de las 14:01 hrs."
      ]
    },
    {
      "cell_type": "markdown",
      "metadata": {
        "cell_id": "d5ef69c347e545b4ad1a58c0ad0c103e",
        "deepnote_cell_type": "markdown",
        "id": "ZXXsLvGV2wuk"
      },
      "source": [
        "# Pregunta 1 - Datos Faltantes (20 puntos)\n",
        "\n",
        "Desarrolle un algoritmo que permita encontrar la fila y la columna respectiva de un dato faltante. La función debe entregar una lista de tuplas, en donde cada tupla *(i,j)* indica el índice de la fila y la columna respectivamente.\n"
      ]
    },
    {
      "cell_type": "code",
      "metadata": {
        "cell_id": "ac1991204ba747119fa7b2b7ae61ad74",
        "deepnote_cell_type": "code",
        "id": "3HPPElfl2wuk"
      },
      "source": [
        "def missing_data(mat):\n",
        "    \"\"\"\n",
        "    input(s)\n",
        "    ----------\n",
        "    mat:  (ndarray) matrix with information of wines.\n",
        "\n",
        "    output(s)\n",
        "    ----------\n",
        "    index_list: (list) list of tuples with row-column indices of missing data.\n",
        "    \"\"\"\n",
        "    #Aquí va su código\n",
        "    return index_list"
      ],
      "execution_count": null,
      "outputs": []
    },
    {
      "cell_type": "markdown",
      "metadata": {
        "cell_id": "eab1720b9c3243a2aae8383efd8efad9",
        "deepnote_cell_type": "markdown",
        "id": "TjKtmM2a2wuk"
      },
      "source": [
        "# Pregunta 2 (30 puntos): Mínimos Cuadrados I\n",
        "\n",
        "Desarrolle un algoritmo que permita completar algún dato faltante que se encuentre en la posición $(i,j)$ con las columnas $(j-1)$ y $(j + 1)$. En caso de que el dato faltante se encuentre en la última columna (alcohol), debe utilizar la primera columna como la siguiente (acidez fija). De forma análoga si el dato faltante se encuentra en la primera columna, debe utilizar la última columna como la anterior. El algoritmo recibe como parámetro la posición del dato faltante y la cantidad de valores a utilizar $p$ utilizando mínimos cuadrados. Asumir que se utilizan los $p$ valores anteriores a la fila $i$ y los $p$ valores siguientes a la fila $i$.En este caso el dato faltante se aproxima mediante la función $y = c_1x_1 + c_2x_2$, donde $x_1$ y $x_2$ son las columnas $(j-1)$ y $(j + 1)$ respectivamente. La función debe retornar la aproximación del dato faltante.\n"
      ]
    },
    {
      "cell_type": "code",
      "metadata": {
        "cell_id": "cc2a6ebc41d049d6a0b46b2bc4241121",
        "deepnote_cell_type": "code",
        "id": "g6nz3aoN2wul"
      },
      "source": [
        "def aprox_lsq(i,j,p,mat):\n",
        "    \"\"\"\n",
        "    input(s)\n",
        "    ----------\n",
        "    i:    (int) row index of missing data.\n",
        "    j:    (int) column index of missing data.\n",
        "    p:    (int) number of values for approximating the missing data.\n",
        "    mat:  (ndarray) matrix with information of wines.\n",
        "\n",
        "    output(s)\n",
        "    ----------\n",
        "    y_estimated: (float) missing data value estimated.\n",
        "    \"\"\"\n",
        "    #Aquí va su código\n",
        "    return y_estimated"
      ],
      "execution_count": null,
      "outputs": []
    },
    {
      "cell_type": "markdown",
      "metadata": {
        "cell_id": "a16daa3f8989488fb9d9e9dbff5d7cf8",
        "deepnote_cell_type": "markdown",
        "id": "tlp3Jst62wum"
      },
      "source": [
        "# Pregunta 3 (40 puntos): Mínimos Cuadrados II.\n",
        "\n",
        "Suponga que ahora se quiere aproximar los datos faltantes acorde a la siguiente función:\n",
        "\n",
        "$$\n",
        "y = a \\,\\exp(bx)\n",
        "$$\n",
        "\n",
        "Desarrolle un algoritmo que aproxime el dato faltante de la posición $(i,j)$ usando la columna anterior $(j-1)$. El algoritmo recibe como parámetro la posición del dato faltante y la cantidad de valores a utilizar $p$ utilizando mínimos cuadrados. Asumir que se utilizan los $p$ valores anteriores a la fila $i$ y los $p$ valores siguientes a la fila $i$."
      ]
    },
    {
      "cell_type": "code",
      "metadata": {
        "cell_id": "6d93e74e2f73411ebbf6b4b7a579deee",
        "deepnote_cell_type": "code",
        "id": "cnz9mawT2wum"
      },
      "source": [
        "def aprox_lsq_2(i,j,p,mat):\n",
        "    \"\"\"\n",
        "    input(s)\n",
        "    ----------\n",
        "    i:    (int) row index of missing data.\n",
        "    j:    (int) column index of missing data.\n",
        "    p:    (int) number of values for approximating the missing data.\n",
        "    mat:  (ndarray) matrix with information of wines.\n",
        "\n",
        "    output(s)\n",
        "    ----------\n",
        "    y_estimated: (float) missing data value estimated.\n",
        "    \"\"\"\n",
        "    #Aquí va su código\n",
        "    return y_estimated"
      ],
      "execution_count": null,
      "outputs": []
    }
  ],
  "nbformat": 4,
  "nbformat_minor": 0,
  "metadata": {
    "deepnote": {},
    "orig_nbformat": 2,
    "deepnote_notebook_id": "5bd9396cbaf94af48cf4febd08f5d766",
    "deepnote_persisted_session": {
      "createdAt": "2023-10-24T07:46:24.293Z"
    },
    "deepnote_execution_queue": [],
    "colab": {
      "provenance": []
    },
    "language_info": {
      "name": "python"
    },
    "kernelspec": {
      "name": "python3",
      "display_name": "Python 3"
    }
  }
}